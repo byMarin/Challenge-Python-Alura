{
  "nbformat": 4,
  "nbformat_minor": 0,
  "metadata": {
    "colab": {
      "provenance": []
    },
    "kernelspec": {
      "name": "python3",
      "display_name": "Python 3"
    },
    "language_info": {
      "name": "python"
    }
  },
  "cells": [
    {
      "cell_type": "markdown",
      "source": [
        "### Importación de datos\n",
        "\n"
      ],
      "metadata": {
        "id": "RhEdWd9YUR6H"
      }
    },
    {
      "cell_type": "code",
      "execution_count": 5,
      "metadata": {
        "colab": {
          "base_uri": "https://localhost:8080/",
          "height": 206
        },
        "id": "T3EvaeQ_INIL",
        "outputId": "64d8cd60-dccd-4d3a-f22c-a28864adebda"
      },
      "outputs": [
        {
          "output_type": "execute_result",
          "data": {
            "text/plain": [
              "            Producto Categoría del Producto    Precio  Costo de envío  \\\n",
              "0  Asistente virtual           Electrónicos  164300.0          6900.0   \n",
              "1    Mesa de comedor                Muebles  192300.0          8400.0   \n",
              "2      Juego de mesa               Juguetes  209600.0         15900.0   \n",
              "3         Microondas      Electrodomésticos  757500.0         41000.0   \n",
              "4   Silla de oficina                Muebles  335200.0         20200.0   \n",
              "\n",
              "  Fecha de Compra         Vendedor Lugar de Compra  Calificación  \\\n",
              "0      16/01/2021      Pedro Gomez          Bogotá             4   \n",
              "1      18/05/2022  Beatriz Morales        Medellín             1   \n",
              "2      15/03/2021   Juan Fernandez       Cartagena             1   \n",
              "3      03/05/2022   Juan Fernandez            Cali             4   \n",
              "4      07/11/2020    Maria Alfonso        Medellín             5   \n",
              "\n",
              "       Método de pago  Cantidad de cuotas       lat       lon  \n",
              "0  Tarjeta de crédito                   8   4.60971 -74.08175  \n",
              "1  Tarjeta de crédito                   4   6.25184 -75.56359  \n",
              "2  Tarjeta de crédito                   1  10.39972 -75.51444  \n",
              "3               Nequi                   1   3.43722 -76.52250  \n",
              "4               Nequi                   1   6.25184 -75.56359  "
            ],
            "text/html": [
              "\n",
              "  <div id=\"df-07eab698-c943-44a0-b168-1715505e5d8c\" class=\"colab-df-container\">\n",
              "    <div>\n",
              "<style scoped>\n",
              "    .dataframe tbody tr th:only-of-type {\n",
              "        vertical-align: middle;\n",
              "    }\n",
              "\n",
              "    .dataframe tbody tr th {\n",
              "        vertical-align: top;\n",
              "    }\n",
              "\n",
              "    .dataframe thead th {\n",
              "        text-align: right;\n",
              "    }\n",
              "</style>\n",
              "<table border=\"1\" class=\"dataframe\">\n",
              "  <thead>\n",
              "    <tr style=\"text-align: right;\">\n",
              "      <th></th>\n",
              "      <th>Producto</th>\n",
              "      <th>Categoría del Producto</th>\n",
              "      <th>Precio</th>\n",
              "      <th>Costo de envío</th>\n",
              "      <th>Fecha de Compra</th>\n",
              "      <th>Vendedor</th>\n",
              "      <th>Lugar de Compra</th>\n",
              "      <th>Calificación</th>\n",
              "      <th>Método de pago</th>\n",
              "      <th>Cantidad de cuotas</th>\n",
              "      <th>lat</th>\n",
              "      <th>lon</th>\n",
              "    </tr>\n",
              "  </thead>\n",
              "  <tbody>\n",
              "    <tr>\n",
              "      <th>0</th>\n",
              "      <td>Asistente virtual</td>\n",
              "      <td>Electrónicos</td>\n",
              "      <td>164300.0</td>\n",
              "      <td>6900.0</td>\n",
              "      <td>16/01/2021</td>\n",
              "      <td>Pedro Gomez</td>\n",
              "      <td>Bogotá</td>\n",
              "      <td>4</td>\n",
              "      <td>Tarjeta de crédito</td>\n",
              "      <td>8</td>\n",
              "      <td>4.60971</td>\n",
              "      <td>-74.08175</td>\n",
              "    </tr>\n",
              "    <tr>\n",
              "      <th>1</th>\n",
              "      <td>Mesa de comedor</td>\n",
              "      <td>Muebles</td>\n",
              "      <td>192300.0</td>\n",
              "      <td>8400.0</td>\n",
              "      <td>18/05/2022</td>\n",
              "      <td>Beatriz Morales</td>\n",
              "      <td>Medellín</td>\n",
              "      <td>1</td>\n",
              "      <td>Tarjeta de crédito</td>\n",
              "      <td>4</td>\n",
              "      <td>6.25184</td>\n",
              "      <td>-75.56359</td>\n",
              "    </tr>\n",
              "    <tr>\n",
              "      <th>2</th>\n",
              "      <td>Juego de mesa</td>\n",
              "      <td>Juguetes</td>\n",
              "      <td>209600.0</td>\n",
              "      <td>15900.0</td>\n",
              "      <td>15/03/2021</td>\n",
              "      <td>Juan Fernandez</td>\n",
              "      <td>Cartagena</td>\n",
              "      <td>1</td>\n",
              "      <td>Tarjeta de crédito</td>\n",
              "      <td>1</td>\n",
              "      <td>10.39972</td>\n",
              "      <td>-75.51444</td>\n",
              "    </tr>\n",
              "    <tr>\n",
              "      <th>3</th>\n",
              "      <td>Microondas</td>\n",
              "      <td>Electrodomésticos</td>\n",
              "      <td>757500.0</td>\n",
              "      <td>41000.0</td>\n",
              "      <td>03/05/2022</td>\n",
              "      <td>Juan Fernandez</td>\n",
              "      <td>Cali</td>\n",
              "      <td>4</td>\n",
              "      <td>Nequi</td>\n",
              "      <td>1</td>\n",
              "      <td>3.43722</td>\n",
              "      <td>-76.52250</td>\n",
              "    </tr>\n",
              "    <tr>\n",
              "      <th>4</th>\n",
              "      <td>Silla de oficina</td>\n",
              "      <td>Muebles</td>\n",
              "      <td>335200.0</td>\n",
              "      <td>20200.0</td>\n",
              "      <td>07/11/2020</td>\n",
              "      <td>Maria Alfonso</td>\n",
              "      <td>Medellín</td>\n",
              "      <td>5</td>\n",
              "      <td>Nequi</td>\n",
              "      <td>1</td>\n",
              "      <td>6.25184</td>\n",
              "      <td>-75.56359</td>\n",
              "    </tr>\n",
              "  </tbody>\n",
              "</table>\n",
              "</div>\n",
              "    <div class=\"colab-df-buttons\">\n",
              "\n",
              "  <div class=\"colab-df-container\">\n",
              "    <button class=\"colab-df-convert\" onclick=\"convertToInteractive('df-07eab698-c943-44a0-b168-1715505e5d8c')\"\n",
              "            title=\"Convert this dataframe to an interactive table.\"\n",
              "            style=\"display:none;\">\n",
              "\n",
              "  <svg xmlns=\"http://www.w3.org/2000/svg\" height=\"24px\" viewBox=\"0 -960 960 960\">\n",
              "    <path d=\"M120-120v-720h720v720H120Zm60-500h600v-160H180v160Zm220 220h160v-160H400v160Zm0 220h160v-160H400v160ZM180-400h160v-160H180v160Zm440 0h160v-160H620v160ZM180-180h160v-160H180v160Zm440 0h160v-160H620v160Z\"/>\n",
              "  </svg>\n",
              "    </button>\n",
              "\n",
              "  <style>\n",
              "    .colab-df-container {\n",
              "      display:flex;\n",
              "      gap: 12px;\n",
              "    }\n",
              "\n",
              "    .colab-df-convert {\n",
              "      background-color: #E8F0FE;\n",
              "      border: none;\n",
              "      border-radius: 50%;\n",
              "      cursor: pointer;\n",
              "      display: none;\n",
              "      fill: #1967D2;\n",
              "      height: 32px;\n",
              "      padding: 0 0 0 0;\n",
              "      width: 32px;\n",
              "    }\n",
              "\n",
              "    .colab-df-convert:hover {\n",
              "      background-color: #E2EBFA;\n",
              "      box-shadow: 0px 1px 2px rgba(60, 64, 67, 0.3), 0px 1px 3px 1px rgba(60, 64, 67, 0.15);\n",
              "      fill: #174EA6;\n",
              "    }\n",
              "\n",
              "    .colab-df-buttons div {\n",
              "      margin-bottom: 4px;\n",
              "    }\n",
              "\n",
              "    [theme=dark] .colab-df-convert {\n",
              "      background-color: #3B4455;\n",
              "      fill: #D2E3FC;\n",
              "    }\n",
              "\n",
              "    [theme=dark] .colab-df-convert:hover {\n",
              "      background-color: #434B5C;\n",
              "      box-shadow: 0px 1px 3px 1px rgba(0, 0, 0, 0.15);\n",
              "      filter: drop-shadow(0px 1px 2px rgba(0, 0, 0, 0.3));\n",
              "      fill: #FFFFFF;\n",
              "    }\n",
              "  </style>\n",
              "\n",
              "    <script>\n",
              "      const buttonEl =\n",
              "        document.querySelector('#df-07eab698-c943-44a0-b168-1715505e5d8c button.colab-df-convert');\n",
              "      buttonEl.style.display =\n",
              "        google.colab.kernel.accessAllowed ? 'block' : 'none';\n",
              "\n",
              "      async function convertToInteractive(key) {\n",
              "        const element = document.querySelector('#df-07eab698-c943-44a0-b168-1715505e5d8c');\n",
              "        const dataTable =\n",
              "          await google.colab.kernel.invokeFunction('convertToInteractive',\n",
              "                                                    [key], {});\n",
              "        if (!dataTable) return;\n",
              "\n",
              "        const docLinkHtml = 'Like what you see? Visit the ' +\n",
              "          '<a target=\"_blank\" href=https://colab.research.google.com/notebooks/data_table.ipynb>data table notebook</a>'\n",
              "          + ' to learn more about interactive tables.';\n",
              "        element.innerHTML = '';\n",
              "        dataTable['output_type'] = 'display_data';\n",
              "        await google.colab.output.renderOutput(dataTable, element);\n",
              "        const docLink = document.createElement('div');\n",
              "        docLink.innerHTML = docLinkHtml;\n",
              "        element.appendChild(docLink);\n",
              "      }\n",
              "    </script>\n",
              "  </div>\n",
              "\n",
              "\n",
              "    <div id=\"df-c8ea5456-ec34-4d95-a4b7-54f0cbe56ea2\">\n",
              "      <button class=\"colab-df-quickchart\" onclick=\"quickchart('df-c8ea5456-ec34-4d95-a4b7-54f0cbe56ea2')\"\n",
              "                title=\"Suggest charts\"\n",
              "                style=\"display:none;\">\n",
              "\n",
              "<svg xmlns=\"http://www.w3.org/2000/svg\" height=\"24px\"viewBox=\"0 0 24 24\"\n",
              "     width=\"24px\">\n",
              "    <g>\n",
              "        <path d=\"M19 3H5c-1.1 0-2 .9-2 2v14c0 1.1.9 2 2 2h14c1.1 0 2-.9 2-2V5c0-1.1-.9-2-2-2zM9 17H7v-7h2v7zm4 0h-2V7h2v10zm4 0h-2v-4h2v4z\"/>\n",
              "    </g>\n",
              "</svg>\n",
              "      </button>\n",
              "\n",
              "<style>\n",
              "  .colab-df-quickchart {\n",
              "      --bg-color: #E8F0FE;\n",
              "      --fill-color: #1967D2;\n",
              "      --hover-bg-color: #E2EBFA;\n",
              "      --hover-fill-color: #174EA6;\n",
              "      --disabled-fill-color: #AAA;\n",
              "      --disabled-bg-color: #DDD;\n",
              "  }\n",
              "\n",
              "  [theme=dark] .colab-df-quickchart {\n",
              "      --bg-color: #3B4455;\n",
              "      --fill-color: #D2E3FC;\n",
              "      --hover-bg-color: #434B5C;\n",
              "      --hover-fill-color: #FFFFFF;\n",
              "      --disabled-bg-color: #3B4455;\n",
              "      --disabled-fill-color: #666;\n",
              "  }\n",
              "\n",
              "  .colab-df-quickchart {\n",
              "    background-color: var(--bg-color);\n",
              "    border: none;\n",
              "    border-radius: 50%;\n",
              "    cursor: pointer;\n",
              "    display: none;\n",
              "    fill: var(--fill-color);\n",
              "    height: 32px;\n",
              "    padding: 0;\n",
              "    width: 32px;\n",
              "  }\n",
              "\n",
              "  .colab-df-quickchart:hover {\n",
              "    background-color: var(--hover-bg-color);\n",
              "    box-shadow: 0 1px 2px rgba(60, 64, 67, 0.3), 0 1px 3px 1px rgba(60, 64, 67, 0.15);\n",
              "    fill: var(--button-hover-fill-color);\n",
              "  }\n",
              "\n",
              "  .colab-df-quickchart-complete:disabled,\n",
              "  .colab-df-quickchart-complete:disabled:hover {\n",
              "    background-color: var(--disabled-bg-color);\n",
              "    fill: var(--disabled-fill-color);\n",
              "    box-shadow: none;\n",
              "  }\n",
              "\n",
              "  .colab-df-spinner {\n",
              "    border: 2px solid var(--fill-color);\n",
              "    border-color: transparent;\n",
              "    border-bottom-color: var(--fill-color);\n",
              "    animation:\n",
              "      spin 1s steps(1) infinite;\n",
              "  }\n",
              "\n",
              "  @keyframes spin {\n",
              "    0% {\n",
              "      border-color: transparent;\n",
              "      border-bottom-color: var(--fill-color);\n",
              "      border-left-color: var(--fill-color);\n",
              "    }\n",
              "    20% {\n",
              "      border-color: transparent;\n",
              "      border-left-color: var(--fill-color);\n",
              "      border-top-color: var(--fill-color);\n",
              "    }\n",
              "    30% {\n",
              "      border-color: transparent;\n",
              "      border-left-color: var(--fill-color);\n",
              "      border-top-color: var(--fill-color);\n",
              "      border-right-color: var(--fill-color);\n",
              "    }\n",
              "    40% {\n",
              "      border-color: transparent;\n",
              "      border-right-color: var(--fill-color);\n",
              "      border-top-color: var(--fill-color);\n",
              "    }\n",
              "    60% {\n",
              "      border-color: transparent;\n",
              "      border-right-color: var(--fill-color);\n",
              "    }\n",
              "    80% {\n",
              "      border-color: transparent;\n",
              "      border-right-color: var(--fill-color);\n",
              "      border-bottom-color: var(--fill-color);\n",
              "    }\n",
              "    90% {\n",
              "      border-color: transparent;\n",
              "      border-bottom-color: var(--fill-color);\n",
              "    }\n",
              "  }\n",
              "</style>\n",
              "\n",
              "      <script>\n",
              "        async function quickchart(key) {\n",
              "          const quickchartButtonEl =\n",
              "            document.querySelector('#' + key + ' button');\n",
              "          quickchartButtonEl.disabled = true;  // To prevent multiple clicks.\n",
              "          quickchartButtonEl.classList.add('colab-df-spinner');\n",
              "          try {\n",
              "            const charts = await google.colab.kernel.invokeFunction(\n",
              "                'suggestCharts', [key], {});\n",
              "          } catch (error) {\n",
              "            console.error('Error during call to suggestCharts:', error);\n",
              "          }\n",
              "          quickchartButtonEl.classList.remove('colab-df-spinner');\n",
              "          quickchartButtonEl.classList.add('colab-df-quickchart-complete');\n",
              "        }\n",
              "        (() => {\n",
              "          let quickchartButtonEl =\n",
              "            document.querySelector('#df-c8ea5456-ec34-4d95-a4b7-54f0cbe56ea2 button');\n",
              "          quickchartButtonEl.style.display =\n",
              "            google.colab.kernel.accessAllowed ? 'block' : 'none';\n",
              "        })();\n",
              "      </script>\n",
              "    </div>\n",
              "\n",
              "    </div>\n",
              "  </div>\n"
            ],
            "application/vnd.google.colaboratory.intrinsic+json": {
              "type": "dataframe",
              "variable_name": "tienda",
              "summary": "{\n  \"name\": \"tienda\",\n  \"rows\": 2359,\n  \"fields\": [\n    {\n      \"column\": \"Producto\",\n      \"properties\": {\n        \"dtype\": \"category\",\n        \"num_unique_values\": 51,\n        \"samples\": [\n          \"Guitarra ac\\u00fastica\",\n          \"Bal\\u00f3n de baloncesto\",\n          \"Smartwatch\"\n        ],\n        \"semantic_type\": \"\",\n        \"description\": \"\"\n      }\n    },\n    {\n      \"column\": \"Categor\\u00eda del Producto\",\n      \"properties\": {\n        \"dtype\": \"category\",\n        \"num_unique_values\": 8,\n        \"samples\": [\n          \"Muebles\",\n          \"Deportes y diversi\\u00f3n\",\n          \"Electr\\u00f3nicos\"\n        ],\n        \"semantic_type\": \"\",\n        \"description\": \"\"\n      }\n    },\n    {\n      \"column\": \"Precio\",\n      \"properties\": {\n        \"dtype\": \"number\",\n        \"std\": 614686.7653873172,\n        \"min\": 7600.0,\n        \"max\": 2977000.0,\n        \"num_unique_values\": 1937,\n        \"samples\": [\n          2499400.0,\n          14800.0,\n          80500.0\n        ],\n        \"semantic_type\": \"\",\n        \"description\": \"\"\n      }\n    },\n    {\n      \"column\": \"Costo de env\\u00edo\",\n      \"properties\": {\n        \"dtype\": \"number\",\n        \"std\": 32860.0017825605,\n        \"min\": 0.0,\n        \"max\": 160800.0,\n        \"num_unique_values\": 753,\n        \"samples\": [\n          117800.0,\n          54700.0,\n          45600.0\n        ],\n        \"semantic_type\": \"\",\n        \"description\": \"\"\n      }\n    },\n    {\n      \"column\": \"Fecha de Compra\",\n      \"properties\": {\n        \"dtype\": \"object\",\n        \"num_unique_values\": 1018,\n        \"samples\": [\n          \"15/09/2022\",\n          \"03/06/2020\",\n          \"06/11/2021\"\n        ],\n        \"semantic_type\": \"\",\n        \"description\": \"\"\n      }\n    },\n    {\n      \"column\": \"Vendedor\",\n      \"properties\": {\n        \"dtype\": \"category\",\n        \"num_unique_values\": 14,\n        \"samples\": [\n          \"Juliana Costa\",\n          \"Mariana Herrera\",\n          \"Pedro Gomez\"\n        ],\n        \"semantic_type\": \"\",\n        \"description\": \"\"\n      }\n    },\n    {\n      \"column\": \"Lugar de Compra\",\n      \"properties\": {\n        \"dtype\": \"category\",\n        \"num_unique_values\": 19,\n        \"samples\": [\n          \"Bogot\\u00e1\",\n          \"Pereira\",\n          \"Neiva\"\n        ],\n        \"semantic_type\": \"\",\n        \"description\": \"\"\n      }\n    },\n    {\n      \"column\": \"Calificaci\\u00f3n\",\n      \"properties\": {\n        \"dtype\": \"number\",\n        \"std\": 1,\n        \"min\": 1,\n        \"max\": 5,\n        \"num_unique_values\": 5,\n        \"samples\": [\n          1,\n          2,\n          5\n        ],\n        \"semantic_type\": \"\",\n        \"description\": \"\"\n      }\n    },\n    {\n      \"column\": \"M\\u00e9todo de pago\",\n      \"properties\": {\n        \"dtype\": \"category\",\n        \"num_unique_values\": 4,\n        \"samples\": [\n          \"Nequi\",\n          \"Tarjeta de d\\u00e9bito\",\n          \"Tarjeta de cr\\u00e9dito\"\n        ],\n        \"semantic_type\": \"\",\n        \"description\": \"\"\n      }\n    },\n    {\n      \"column\": \"Cantidad de cuotas\",\n      \"properties\": {\n        \"dtype\": \"number\",\n        \"std\": 2,\n        \"min\": 1,\n        \"max\": 24,\n        \"num_unique_values\": 15,\n        \"samples\": [\n          7,\n          14,\n          8\n        ],\n        \"semantic_type\": \"\",\n        \"description\": \"\"\n      }\n    },\n    {\n      \"column\": \"lat\",\n      \"properties\": {\n        \"dtype\": \"number\",\n        \"std\": 2.2874452492678627,\n        \"min\": -4.21528,\n        \"max\": 11.54444,\n        \"num_unique_values\": 19,\n        \"samples\": [\n          4.60971,\n          4.81333,\n          2.9273\n        ],\n        \"semantic_type\": \"\",\n        \"description\": \"\"\n      }\n    },\n    {\n      \"column\": \"lon\",\n      \"properties\": {\n        \"dtype\": \"number\",\n        \"std\": 1.2178272727088486,\n        \"min\": -77.28111,\n        \"max\": -67.9239,\n        \"num_unique_values\": 19,\n        \"samples\": [\n          -74.08175,\n          -75.69611,\n          -75.28189\n        ],\n        \"semantic_type\": \"\",\n        \"description\": \"\"\n      }\n    }\n  ]\n}"
            }
          },
          "metadata": {},
          "execution_count": 5
        }
      ],
      "source": [
        "import pandas as pd\n",
        "\n",
        "url = \"https://raw.githubusercontent.com/alura-es-cursos/challenge1-data-science-latam/refs/heads/main/base-de-datos-challenge1-latam/tienda_1%20.csv\"\n",
        "url2 = \"https://raw.githubusercontent.com/alura-es-cursos/challenge1-data-science-latam/refs/heads/main/base-de-datos-challenge1-latam/tienda_2.csv\"\n",
        "url3 = \"https://raw.githubusercontent.com/alura-es-cursos/challenge1-data-science-latam/refs/heads/main/base-de-datos-challenge1-latam/tienda_3.csv\"\n",
        "url4 = \"https://raw.githubusercontent.com/alura-es-cursos/challenge1-data-science-latam/refs/heads/main/base-de-datos-challenge1-latam/tienda_4.csv\"\n",
        "\n",
        "tienda = pd.read_csv(url)\n",
        "tienda2 = pd.read_csv(url2)\n",
        "tienda3 = pd.read_csv(url3)\n",
        "tienda4 = pd.read_csv(url4)\n",
        "\n",
        "tienda.head()"
      ]
    },
    {
      "cell_type": "markdown",
      "source": [
        "#1. Análisis de facturación\n",
        "\n"
      ],
      "metadata": {
        "id": "X62IW3KFUIYm"
      }
    },
    {
      "cell_type": "code",
      "source": [
        "# Calculo de los ingresos totales por tienda\n",
        "\n",
        "ingreso_tienda_1 = tienda['Precio'].sum()\n",
        "ingreso_tienda_2 = tienda2['Precio'].sum()\n",
        "ingreso_tienda_3 = tienda3['Precio'].sum()\n",
        "ingreso_tienda_4 = tienda4['Precio'].sum()\n",
        "\n",
        "print('Ingreso total de la Tienda 1:', ingreso_tienda_1)\n",
        "print('Ingreso total de la Tienda 2:', ingreso_tienda_2)\n",
        "print('Ingreso total de la Tienda 3:', ingreso_tienda_3)\n",
        "print('Ingreso total de la Tienda 4:', ingreso_tienda_4)\n"
      ],
      "metadata": {
        "id": "xykobSftV64I",
        "colab": {
          "base_uri": "https://localhost:8080/"
        },
        "outputId": "163162d7-c267-4cdb-f098-8ca054149fd1"
      },
      "execution_count": 6,
      "outputs": [
        {
          "output_type": "stream",
          "name": "stdout",
          "text": [
            "Ingreso total de la Tienda 1: 1150880400.0\n",
            "Ingreso total de la Tienda 2: 1116343500.0\n",
            "Ingreso total de la Tienda 3: 1098019600.0\n",
            "Ingreso total de la Tienda 4: 1038375700.0\n"
          ]
        }
      ]
    },
    {
      "cell_type": "code",
      "source": [
        "\n",
        "import matplotlib.pyplot as plt\n",
        "\n",
        "# Datos existentes\n",
        "tiendas = ['Tienda 1', 'Tienda 2', 'Tienda 3', 'Tienda 4']\n",
        "ingresos = [ingreso_tienda_1, ingreso_tienda_2, ingreso_tienda_3, ingreso_tienda_4]\n",
        "\n",
        "# Gráfico\n",
        "bars = plt.bar(tiendas, ingresos, color='orange')\n",
        "plt.title('Ingreso Total por Tienda')\n",
        "plt.ylabel('Ingreso (S/)')\n",
        "\n",
        "for bar in bars:\n",
        "    plt.text(bar.get_x() + bar.get_width()/2, bar.get_height(), f\"{bar.get_height():,.0f}\",\n",
        "             ha='center', va='bottom', fontsize=9)\n",
        "\n",
        "# Eliminar los bordes del gráfico\n",
        "plt.gca().spines['top'].set_visible(False)\n",
        "plt.gca().spines['right'].set_visible(False)\n",
        "\n",
        "plt.show()\n",
        "\n"
      ],
      "metadata": {
        "colab": {
          "base_uri": "https://localhost:8080/",
          "height": 452
        },
        "id": "xVezv-2q1Nma",
        "outputId": "14a3f419-35db-45cd-b8fe-a3efdaefddfd"
      },
      "execution_count": 26,
      "outputs": [
        {
          "output_type": "display_data",
          "data": {
            "text/plain": [
              "<Figure size 640x480 with 1 Axes>"
            ],
            "image/png": "[encoded data removed]"
          },
          "metadata": {}
        }
      ]
    },
    {
      "cell_type": "markdown",
      "source": [
        "# 2. Ventas por categoría"
      ],
      "metadata": {
        "id": "2V_vcAPzWZmR"
      }
    },
    {
      "cell_type": "code",
      "source": [
        "categoria_t1 = tienda['Categoría del Producto'].value_counts()\n",
        "categoria_t2 = tienda2['Categoría del Producto'].value_counts()\n",
        "categoria_t3 = tienda3['Categoría del Producto'].value_counts()\n",
        "categoria_t4 = tienda4['Categoría del Producto'].value_counts()\n",
        "\n",
        "# Mostrar la cantidad de productos vendidos por categoría de cada tienda\n",
        "def mostrar_cantidad_por_categoria(categorias, nombre_tienda):\n",
        "    print(f\"Cantidad de productos vendidos por Categoría - {nombre_tienda}:\")\n",
        "\n",
        "    # Mostrar las categorías y cantidades\n",
        "    for categoria, cantidad in categorias.items():\n",
        "        print(f\"{categoria:<25} {cantidad:>5}\")\n",
        "\n",
        "    # Separador entre tiendas\n",
        "    print(\"\\n\" + \"-\" * 40 + \"\\n\")\n",
        "\n",
        "# Mostrar la cantidad de productos vendidos por categoría para cada tienda\n",
        "mostrar_cantidad_por_categoria(categoria_t1, \"Tienda 1\")\n",
        "mostrar_cantidad_por_categoria(categoria_t2, \"Tienda 2\")\n",
        "mostrar_cantidad_por_categoria(categoria_t3, \"Tienda 3\")\n",
        "mostrar_cantidad_por_categoria(categoria_t4, \"Tienda 4\")"
      ],
      "metadata": {
        "id": "A34YupIuYhfF",
        "colab": {
          "base_uri": "https://localhost:8080/"
        },
        "outputId": "5f17862e-99d5-41fd-df3e-055d7675f06d"
      },
      "execution_count": 7,
      "outputs": [
        {
          "output_type": "stream",
          "name": "stdout",
          "text": [
            "Cantidad de productos vendidos por Categoría - Tienda 1:\n",
            "Muebles                     465\n",
            "Electrónicos                448\n",
            "Juguetes                    324\n",
            "Electrodomésticos           312\n",
            "Deportes y diversión        284\n",
            "Instrumentos musicales      182\n",
            "Libros                      173\n",
            "Artículos para el hogar     171\n",
            "\n",
            "----------------------------------------\n",
            "\n",
            "Cantidad de productos vendidos por Categoría - Tienda 2:\n",
            "Muebles                     442\n",
            "Electrónicos                422\n",
            "Juguetes                    313\n",
            "Electrodomésticos           305\n",
            "Deportes y diversión        275\n",
            "Instrumentos musicales      224\n",
            "Libros                      197\n",
            "Artículos para el hogar     181\n",
            "\n",
            "----------------------------------------\n",
            "\n",
            "Cantidad de productos vendidos por Categoría - Tienda 3:\n",
            "Muebles                     499\n",
            "Electrónicos                451\n",
            "Juguetes                    315\n",
            "Electrodomésticos           278\n",
            "Deportes y diversión        277\n",
            "Libros                      185\n",
            "Instrumentos musicales      177\n",
            "Artículos para el hogar     177\n",
            "\n",
            "----------------------------------------\n",
            "\n",
            "Cantidad de productos vendidos por Categoría - Tienda 4:\n",
            "Muebles                     480\n",
            "Electrónicos                451\n",
            "Juguetes                    338\n",
            "Deportes y diversión        277\n",
            "Electrodomésticos           254\n",
            "Artículos para el hogar     201\n",
            "Libros                      187\n",
            "Instrumentos musicales      170\n",
            "\n",
            "----------------------------------------\n",
            "\n"
          ]
        }
      ]
    },
    {
      "cell_type": "markdown",
      "source": [
        "# 3. Calificación promedio de la tienda\n"
      ],
      "metadata": {
        "id": "Rq6tU_xSY3jk"
      }
    },
    {
      "cell_type": "code",
      "source": [
        "cal_avg_t1 = round(tienda['Calificación'].mean(),2)\n",
        "cal_avg_t2 = round(tienda2['Calificación'].mean(),2)\n",
        "cal_avg_t3 = round(tienda3['Calificación'].mean(),2)\n",
        "cal_avg_t4 = round(tienda4['Calificación'].mean(),2)\n",
        "\n",
        "print('Promedio de calificacion en Tienda 1:',cal_avg_t1)\n",
        "print('Promedio de calificacion en Tienda 2:',cal_avg_t2)\n",
        "print('Promedio de calificacion en Tienda 3:',cal_avg_t3)\n",
        "print('Promedio de calificacion en Tienda 4:',cal_avg_t4)"
      ],
      "metadata": {
        "id": "bh3jjjJwY5MU",
        "colab": {
          "base_uri": "https://localhost:8080/"
        },
        "outputId": "ec16606d-b534-4bc6-de2f-1c57a3b6eb53"
      },
      "execution_count": 8,
      "outputs": [
        {
          "output_type": "stream",
          "name": "stdout",
          "text": [
            "Promedio de calificacion en Tienda 1: 3.98\n",
            "Promedio de calificacion en Tienda 2: 4.04\n",
            "Promedio de calificacion en Tienda 3: 4.05\n",
            "Promedio de calificacion en Tienda 4: 4.0\n"
          ]
        }
      ]
    },
    {
      "cell_type": "code",
      "source": [
        "calificaciones = [cal_avg_t1, cal_avg_t2, cal_avg_t3, cal_avg_t4]\n",
        "\n",
        "# Gráfico\n",
        "bars = plt.bar(tiendas, calificaciones, color='mediumseagreen')\n",
        "plt.title('Promedio de Calificación por Tienda')\n",
        "plt.ylabel('Calificación Promedio')\n",
        "plt.ylim(3.5, 4.2)\n",
        "\n",
        "# Mostrar valores encima de las barras de forma más simple\n",
        "for bar in bars:\n",
        "    plt.text(bar.get_x() + bar.get_width()/2, bar.get_height() + 0.01,\n",
        "             f\"{bar.get_height():.2f}\", ha='center', va='bottom')\n",
        "\n",
        "# Eliminar los bordes del gráfico\n",
        "plt.gca().spines['top'].set_visible(False)\n",
        "plt.gca().spines['right'].set_visible(False)\n",
        "\n",
        "plt.show()"
      ],
      "metadata": {
        "id": "I0KkjPoTY88F",
        "colab": {
          "base_uri": "https://localhost:8080/",
          "height": 453
        },
        "outputId": "089fbfcd-2db6-473f-a869-f8d7887524d8"
      },
      "execution_count": 25,
      "outputs": [
        {
          "output_type": "display_data",
          "data": {
            "text/plain": [
              "<Figure size 640x480 with 1 Axes>"
            ],
            "image/png": "[encoded data removed]"
          },
          "metadata": {}
        }
      ]
    },
    {
      "cell_type": "markdown",
      "source": [
        "# 4. Productos más y menos vendidos"
      ],
      "metadata": {
        "id": "DmNp1KPBZCm-"
      }
    },
    {
      "cell_type": "code",
      "source": [
        "productos_t1 = tienda['Producto'].value_counts()\n",
        "productos_t2 = tienda2['Producto'].value_counts()\n",
        "productos_t3 = tienda3['Producto'].value_counts()\n",
        "productos_t4 = tienda4['Producto'].value_counts()\n",
        "\n",
        "# Mostrar los 3 productos más vendidos por tienda\n",
        "def mostrar_top_3_productos(productos, nombre_tienda):\n",
        "    print(f\"Top 3 productos más vendidos por Tienda - {nombre_tienda}:\")\n",
        "\n",
        "    # Mostrar solo los 3 primeros productos más vendidos\n",
        "    for producto, cantidad in productos.head(3).items():\n",
        "        print(f\"{producto:<25} {cantidad:>5}\")\n",
        "\n",
        "    # Separador entre tiendas\n",
        "    print(\"\\n\" + \"-\" * 40 + \"\\n\")\n",
        "\n",
        "# Mostrar los 3 productos más vendidos para cada tienda\n",
        "mostrar_top_3_productos(productos_t1, \"Tienda 1\")\n",
        "mostrar_top_3_productos(productos_t2, \"Tienda 2\")\n",
        "mostrar_top_3_productos(productos_t3, \"Tienda 3\")\n",
        "mostrar_top_3_productos(productos_t4, \"Tienda 4\")\n"
      ],
      "metadata": {
        "id": "qoyjqijQZHfF",
        "colab": {
          "base_uri": "https://localhost:8080/"
        },
        "outputId": "6fd0c5e5-b2f0-4ba8-dfcd-1af7f79c88c6"
      },
      "execution_count": null,
      "outputs": [
        {
          "output_type": "stream",
          "name": "stdout",
          "text": [
            "Top 3 productos más vendidos por Tienda - Tienda 1:\n",
            "Microondas                   60\n",
            "TV LED UHD 4K                60\n",
            "Armario                      60\n",
            "\n",
            "----------------------------------------\n",
            "\n",
            "Top 3 productos más vendidos por Tienda - Tienda 2:\n",
            "Iniciando en programación    65\n",
            "Microondas                   62\n",
            "Batería                      61\n",
            "\n",
            "----------------------------------------\n",
            "\n",
            "Top 3 productos más vendidos por Tienda - Tienda 3:\n",
            "Kit de bancas                57\n",
            "Mesa de comedor              56\n",
            "Cama king                    56\n",
            "\n",
            "----------------------------------------\n",
            "\n",
            "Top 3 productos más vendidos por Tienda - Tienda 4:\n",
            "Cama box                     62\n",
            "Cubertería                   59\n",
            "Dashboards con Power BI      56\n",
            "\n",
            "----------------------------------------\n",
            "\n"
          ]
        }
      ]
    },
    {
      "cell_type": "markdown",
      "source": [
        "# 5. Envío promedio por tienda"
      ],
      "metadata": {
        "id": "Fl0cGi3bZKqU"
      }
    },
    {
      "cell_type": "code",
      "source": [
        "envio_avg_t1 = round(tienda['Costo de envío'].mean(),2)\n",
        "envio_avg_t2 = round(tienda2['Costo de envío'].mean(),2)\n",
        "envio_avg_t3 = round(tienda3['Costo de envío'].mean(),2)\n",
        "envio_avg_t4 = round(tienda4['Costo de envío'].mean(),2)\n",
        "\n",
        "print('Promedio de envio por Tienda 1:',envio_avg_t1)\n",
        "print('Promedio de envio por Tienda 2:',envio_avg_t2)\n",
        "print('Promedio de envio por Tienda 3:',envio_avg_t3)\n",
        "print('Promedio de envio por Tienda 4:',envio_avg_t4)"
      ],
      "metadata": {
        "id": "S2JeaCykZNy9",
        "colab": {
          "base_uri": "https://localhost:8080/"
        },
        "outputId": "4548e81b-36a2-485b-d734-daa843231df8"
      },
      "execution_count": 17,
      "outputs": [
        {
          "output_type": "stream",
          "name": "stdout",
          "text": [
            "Promedio de envio por Tienda 1: 26018.61\n",
            "Promedio de envio por Tienda 2: 25216.24\n",
            "Promedio de envio por Tienda 3: 24805.68\n",
            "Promedio de envio por Tienda 4: 23459.46\n"
          ]
        }
      ]
    },
    {
      "cell_type": "code",
      "source": [
        "\n",
        "# Datos\n",
        "envios = [envio_avg_t1, envio_avg_t2, envio_avg_t3, envio_avg_t4]\n",
        "\n",
        "# Gráfico de barras horizontales\n",
        "bars = plt.barh(tiendas, envios, color='orange', edgecolor='black')\n",
        "\n",
        "# Título y etiquetas\n",
        "plt.title('Promedio de Costo de Envío por Tienda')\n",
        "plt.xlabel('Costo de Envío (S/)')\n",
        "\n",
        "# Mostrar valores al lado de las barras\n",
        "for bar in bars:\n",
        "    plt.text(bar.get_width() + 500, bar.get_y() + bar.get_height()/2,\n",
        "             f\"{bar.get_width():,.2f}\", va='center')\n",
        "\n",
        "# Eliminar los bordes del gráfico\n",
        "plt.gca().spines['top'].set_visible(False)\n",
        "plt.gca().spines['right'].set_visible(False)\n",
        "plt.gca().spines['left'].set_visible(False)\n",
        "plt.gca().spines['bottom'].set_visible(False)\n",
        "\n",
        "plt.show()\n"
      ],
      "metadata": {
        "id": "0tSdCie9ZQlt",
        "colab": {
          "base_uri": "https://localhost:8080/",
          "height": 472
        },
        "outputId": "5db83117-772b-4ce4-ac5e-84d0523aa074"
      },
      "execution_count": 22,
      "outputs": [
        {
          "output_type": "display_data",
          "data": {
            "text/plain": [
              "<Figure size 640x480 with 1 Axes>"
            ],
            "image/png": "[encoded data removed]"
          },
          "metadata": {}
        }
      ]
    },
    {
      "cell_type": "markdown",
      "source": [
        "# Informe Final: Recomendación para el Sr. João sobre a qué tienda vender\n",
        "\n",
        "**Introducción:**\n",
        "\n",
        "El propósito de este análisis es determinar cuál es la tienda más adecuada para que el Sr. João realice sus ventas, basándonos en un conjunto de datos clave que incluyen los ingresos totales, las calificaciones promedio de los clientes, los costos de envío y las categorías de productos más y menos vendidos en cada tienda. A partir de los hallazgos obtenidos a través de los análisis y gráficos generados, se presentará una recomendación clara sobre la tienda que ofrece mayores oportunidades de éxito.\n",
        "\n",
        "**Desarrollo:**\n",
        "\n",
        "1. **Ingresos Totales por Tienda:**\n",
        "   Los ingresos totales son un indicador crucial para evaluar el volumen de ventas de una tienda y su rentabilidad. Al revisar los datos de cada tienda, encontramos lo siguiente:\n",
        "   - **Tienda 1:** S/ 1,150,880,400\n",
        "   - **Tienda 2:** S/ 1,116,343,500\n",
        "   - **Tienda 3:** S/ 1,098,019,600\n",
        "   - **Tienda 4:** S/ 1,038,375,700\n",
        "\n",
        "   **Análisis:** La **Tienda 1** destaca con un ingreso total significativamente más alto que las demás, lo que sugiere que es la tienda más exitosa en términos monetarios. Este dato es relevante ya que una tienda con altos ingresos probablemente tendrá un mercado más amplio y un volumen de ventas superior, lo que puede traducirse en mayores oportunidades de negocio.\n",
        "\n",
        "2. **Calificación Promedio de los Clientes:**\n",
        "   Las calificaciones promedio indican la satisfacción de los clientes y pueden influir en la lealtad del consumidor y en las futuras ventas. Los promedios de calificación son los siguientes:\n",
        "   - **Tienda 1:** 3.98\n",
        "   - **Tienda 2:** 4.04\n",
        "   - **Tienda 3:** 4.05\n",
        "   - **Tienda 4:** 4.00\n",
        "\n",
        "   **Análisis:** Aunque la **Tienda 3** tiene la calificación más alta (4.05), la diferencia con las otras tiendas es mínima. La **Tienda 1** se encuentra apenas por debajo de la Tienda 3 con 3.98, lo que sigue siendo una calificación sólida. Sin embargo, la ventaja de la Tienda 1 en términos de ingresos puede compensar esta ligera diferencia en las calificaciones.\n",
        "\n",
        "3. **Costo de Envío Promedio:**\n",
        "   El costo de envío es un factor clave que puede influir en la decisión de compra de los consumidores. Un costo de envío más bajo puede ser un atractivo adicional para los clientes.\n",
        "   - **Tienda 1:** S/ 26,018.61\n",
        "   - **Tienda 2:** S/ 25,216.24\n",
        "   - **Tienda 3:** S/ 24,805.68\n",
        "   - **Tienda 4:** S/ 23,459.46\n",
        "\n",
        "   **Análisis:** La **Tienda 4** presenta el costo de envío más bajo, lo que podría ser un punto a favor si el Sr. João busca una tienda con costos más accesibles. Sin embargo, este factor debe sopesarse frente a los ingresos y la popularidad general de cada tienda.\n",
        "\n",
        "4. **Productos Más y Menos Vendidos:**\n",
        "   Aunque no se presentó un análisis exhaustivo de los productos más vendidos, se sabe que cada tienda tiene un enfoque diferente en cuanto a los productos que venden. Esto puede influir dependiendo del tipo de producto que el Sr. João desea vender. Sin embargo, al ser la **Tienda 1** la que lidera en ingresos, es probable que cuente con una oferta diversificada que atrae a un mayor número de clientes.\n",
        "\n",
        "**Conclusión:**\n",
        "\n",
        "Después de considerar todos los factores analizados (ingresos, calificaciones, costos de envío y la variedad de productos), la **Tienda 1** emerge como la opción más adecuada para que el Sr. João realice sus ventas. Aunque la **Tienda 3** tiene una ligera ventaja en calificación, la **Tienda 1** se destaca significativamente en ingresos totales, lo cual sugiere que tiene una mayor capacidad para generar ventas y atraer clientes.\n",
        "\n",
        "Por otro lado, la **Tienda 4** presenta un costo de envío más bajo, lo que puede ser atractivo desde una perspectiva de reducción de costos para los consumidores, pero sus ingresos totales son menores en comparación con la Tienda 1, lo que puede limitar las oportunidades a largo plazo.\n",
        "\n",
        "**Recomendación Final:** El Sr. João debería vender a la **Tienda 1**, ya que ofrece mayores ingresos totales, lo que indica un mayor volumen de ventas y potencial de negocio. Aunque la Tienda 3 tiene una calificación ligeramente superior, la diferencia en ingresos justifica la elección de la Tienda 1.\n"
      ],
      "metadata": {
        "id": "yG1Gg6I04hd6"
      }
    }
  ]
}